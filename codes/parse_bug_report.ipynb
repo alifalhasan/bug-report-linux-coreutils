{
 "cells": [
  {
   "cell_type": "code",
   "execution_count": null,
   "id": "d32727f4-9326-4d87-873e-cf08654bc85e",
   "metadata": {},
   "outputs": [],
   "source": [
    "!pip install tqdm pandas"
   ]
  },
  {
   "cell_type": "code",
   "execution_count": 8,
   "id": "5d6f2bfe-6dd8-4986-9f2f-ddc8b53ec0fd",
   "metadata": {},
   "outputs": [
    {
     "name": "stderr",
     "output_type": "stream",
     "text": [
      "Fetching Bug Details: 100%|██████████████████████████████████████████████████████████████████████████████████████████████████████████████████████████████████████████████████████████████████████████| 5/5 [00:11<00:00,  2.21s/it]"
     ]
    },
    {
     "name": "stdout",
     "output_type": "stream",
     "text": [
      "Bug information successfully inserted into the local CSV file.\n"
     ]
    },
    {
     "name": "stderr",
     "output_type": "stream",
     "text": [
      "\n"
     ]
    }
   ],
   "source": [
    "import time\n",
    "import requests\n",
    "import pandas as pd\n",
    "from tqdm import tqdm\n",
    "\n",
    "CSV_FILE_PATH = \"annotations.csv\"  # Enter the path to your CSV file\n",
    "\n",
    "df = pd.read_csv(CSV_FILE_PATH)\n",
    "\n",
    "# Ensure the 'id' column exists\n",
    "if \"id\" not in df.columns:\n",
    "    raise ValueError(\"The CSV file must contain a column named 'id'.\")\n",
    "\n",
    "# Define the Bugzilla API URL\n",
    "BUGZILLA_URL = \"https://bugzilla.redhat.com\"\n",
    "\n",
    "# Function to get bug details from Bugzilla\n",
    "def get_bug_details(bug_id):\n",
    "    url = f\"{BUGZILLA_URL}/rest/bug/{bug_id}\"\n",
    "    params = {\"include_fields\": \"id,creator,creation_time,last_change_time,status,resolution,priority,severity,classification,component,summary\"}\n",
    "    \n",
    "    response = requests.get(url, params=params)\n",
    "    if response.status_code == 200:\n",
    "        bug_data = response.json().get(\"bugs\", [{}])\n",
    "        return bug_data[0] if bug_data and bug_data[0] else None\n",
    "    else:\n",
    "        print(f\"Error: {response.status_code} - {response.text}\")\n",
    "        return None\n",
    "\n",
    "# Fetch bug details with a progress bar\n",
    "bug_details_list = []\n",
    "for _, row in tqdm(df.iterrows(), total=len(df), desc=\"Fetching Bug Details\"):\n",
    "    bug_id = row[\"id\"]\n",
    "    bug_info = get_bug_details(bug_id)\n",
    "    \n",
    "    bug_details_list.append([\n",
    "        bug_id,\n",
    "        bug_info.get(\"creator\", \"\") if bug_info else \"Not Found\",\n",
    "        bug_info.get(\"creation_time\", \"\") if bug_info else \"\",\n",
    "        bug_info.get(\"last_change_time\", \"\") if bug_info else \"\",\n",
    "        f\"{bug_info.get('status', '')} {bug_info.get('resolution', '')}\".strip() if bug_info else \"\",\n",
    "        bug_info.get(\"priority\", \"\") if bug_info else \"\",\n",
    "        bug_info.get(\"severity\", \"\") if bug_info else \"\",\n",
    "        bug_info.get(\"classification\", \"\") if bug_info else \"\",\n",
    "        bug_info.get(\"component\", \"\") if bug_info else \"\",\n",
    "        bug_info.get(\"summary\", \"\") if bug_info else \"\",\n",
    "    ])\n",
    "    time.sleep(1)\n",
    "\n",
    "# Create DataFrame and save to CSV\n",
    "bug_df = pd.DataFrame(bug_details_list, columns=[\n",
    "    \"id\", \"reporter\", \"reporter-time\", \"last-modified\", \"status\", \"priority\", \"severity\", \"product\", \"component\", \"summary\"\n",
    "])\n",
    "bug_df.to_csv(CSV_FILE_PATH, index=False)\n",
    "\n",
    "print(\"Bug information successfully inserted into the CSV file.\")\n"
   ]
  },
  {
   "cell_type": "code",
   "execution_count": 7,
   "id": "bf6a3e38-2207-47a0-9fa5-a227688d95cc",
   "metadata": {},
   "outputs": [
    {
     "name": "stderr",
     "output_type": "stream",
     "text": [
      "Fetching Bug Descriptions: 100%|█████████████████████████████████████████████████████████████████████████████████████████████████████████████████████████████████████████████████████████████████████| 5/5 [00:11<00:00,  2.21s/it]"
     ]
    },
    {
     "name": "stdout",
     "output_type": "stream",
     "text": [
      "Bug details successfully inserted into the CSV file.\n"
     ]
    },
    {
     "name": "stderr",
     "output_type": "stream",
     "text": [
      "\n"
     ]
    }
   ],
   "source": [
    "import time\n",
    "import requests\n",
    "import pandas as pd\n",
    "from tqdm import tqdm\n",
    "\n",
    "CSV_FILE_PATH = \"descriptions.csv\"  # Enter the path to your CSV file\n",
    "\n",
    "df = pd.read_csv(CSV_FILE_PATH)\n",
    "\n",
    "# Ensure the 'id' column exists\n",
    "if \"id\" not in df.columns:\n",
    "    raise ValueError(\"The CSV file must contain a column named 'id'.\")\n",
    "\n",
    "# Define the Bugzilla API URL\n",
    "BUGZILLA_URL = \"https://bugzilla.redhat.com\"\n",
    "\n",
    "# Function to get bug details from Bugzilla\n",
    "def get_bug_description(bug_id):\n",
    "    url = f\"{BUGZILLA_URL}/rest/bug/{bug_id}\"\n",
    "    params = {\"include_fields\": \"id, description\"}\n",
    "    \n",
    "    response = requests.get(url, params=params)\n",
    "    if response.status_code == 200:\n",
    "        bug_data = response.json().get(\"bugs\", [{}])\n",
    "        return bug_data[0] if bug_data and bug_data[0] else None\n",
    "    else:\n",
    "        print(f\"Error: {response.status_code} - {response.text}\")\n",
    "        return None\n",
    "\n",
    "# Fetch bug details with a progress bar\n",
    "bug_details_list = []\n",
    "for _, row in tqdm(df.iterrows(), total=len(df), desc=\"Fetching Bug Descriptions\"):\n",
    "    bug_id = row[\"id\"]\n",
    "    bug_info = get_bug_description(bug_id)\n",
    "    \n",
    "    bug_details_list.append([\n",
    "        bug_id,\n",
    "        bug_info.get(\"description\", \"\") if bug_info else \"\",\n",
    "    ])\n",
    "    time.sleep(1)  # Delay to avoid rate limits\n",
    "\n",
    "# Create DataFrame and save to CSV\n",
    "bug_df = pd.DataFrame(bug_details_list, columns=[\n",
    "    \"id\", \"description\"\n",
    "])\n",
    "bug_df.to_csv(CSV_FILE_PATH, index=False)\n",
    "\n",
    "print(\"Bug details successfully inserted into the CSV file.\")\n"
   ]
  },
  {
   "cell_type": "code",
   "execution_count": null,
   "id": "3a8a5d12-b782-447d-aa13-00385ad5e5ad",
   "metadata": {},
   "outputs": [],
   "source": []
  }
 ],
 "metadata": {
  "kernelspec": {
   "display_name": "Python 3 (ipykernel)",
   "language": "python",
   "name": "python3"
  },
  "language_info": {
   "codemirror_mode": {
    "name": "ipython",
    "version": 3
   },
   "file_extension": ".py",
   "mimetype": "text/x-python",
   "name": "python",
   "nbconvert_exporter": "python",
   "pygments_lexer": "ipython3",
   "version": "3.11.9"
  }
 },
 "nbformat": 4,
 "nbformat_minor": 5
}
