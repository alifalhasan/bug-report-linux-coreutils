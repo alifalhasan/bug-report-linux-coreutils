{
  "cells": [
    {
      "cell_type": "code",
      "execution_count": null,
      "metadata": {
        "colab": {
          "base_uri": "https://localhost:8080/"
        },
        "id": "qZFszMCv-Im6",
        "outputId": "bcf4c233-2cfa-4f1c-ab93-d3249bdb91c4"
      },
      "outputs": [],
      "source": [
        "import re\n",
        "import csv\n",
        "import nltk\n",
        "import statistics\n",
        "\n",
        "nltk.download('wordnet')\n",
        "nltk.download('omw-1.4')\n",
        "nltk.download('punkt_tab')\n",
        "nltk.download('stopwords')\n",
        "nltk.download('averaged_perceptron_tagger_eng')\n",
        "\n",
        "from nltk.stem import WordNetLemmatizer\n",
        "from nltk.stem.porter import PorterStemmer\n",
        "from nltk.corpus import stopwords, wordnet\n",
        "from nltk.translate.bleu_score import sentence_bleu"
      ]
    },
    {
      "cell_type": "code",
      "execution_count": null,
      "metadata": {
        "id": "fAkplXJN-Im8"
      },
      "outputs": [],
      "source": [
        "lemmatizer = WordNetLemmatizer()\n",
        "stemmer = PorterStemmer()\n",
        "stop_words = set(stopwords.words('english'))\n",
        "\n",
        "def text_cleaning(text: str) -> str:\n",
        "    text = str(text).strip()\n",
        "\n",
        "    if not text:\n",
        "        return \"\"\n",
        "\n",
        "    text = text.encode(\"ascii\", \"ignore\").decode()\n",
        "    text = re.sub(r'[^\\w\\s]', ' ', text)\n",
        "    text = re.sub(r'\\s+', ' ', text).strip().lower()\n",
        "\n",
        "    words = nltk.word_tokenize(text)\n",
        "    pos_tags = nltk.pos_tag(words)\n",
        "    pos_map = {'N': wordnet.NOUN, 'V': wordnet.VERB, 'R': wordnet.ADV, 'J': wordnet.ADJ}\n",
        "    lemmatized_words = [lemmatizer.lemmatize(word, pos_map.get(pos[0], wordnet.NOUN)) for word, pos in pos_tags]\n",
        "    stemmed_words = [stemmer.stem(word) for word in lemmatized_words]\n",
        "\n",
        "    return ' '.join(stemmed_words)"
      ]
    },
    {
      "cell_type": "code",
      "execution_count": null,
      "metadata": {
        "id": "GDMVl6nr-Im9"
      },
      "outputs": [],
      "source": [
        "column_manual = []\n",
        "column_llama = []\n",
        "column_qwen = []\n",
        "column_qwen_coder = []\n",
        "\n",
        "with open('input.csv', 'r', encoding='utf-8') as csv_file:\n",
        "    csv_reader = csv.reader(csv_file, delimiter=',')\n",
        "    next(csv_reader)\n",
        "    for row in csv_reader:\n",
        "        column_manual.append(text_cleaning(row[1]))\n",
        "        column_llama.append(text_cleaning(row[2]))\n",
        "        column_qwen.append(text_cleaning(row[3]))\n",
        "        column_qwen_coder.append(text_cleaning(row[4]))"
      ]
    },
    {
      "cell_type": "code",
      "execution_count": null,
      "metadata": {
        "colab": {
          "base_uri": "https://localhost:8080/"
        },
        "id": "4udLQ-XaKLnV",
        "outputId": "fd671af1-3b0e-47c2-d1b3-d7ea13ed8b54"
      },
      "outputs": [],
      "source": [
        "def compute_word_stats(columns):\n",
        "    results = {}\n",
        "    for model_name, column in columns.items():\n",
        "        word_counts = [len(sentence.split()) for sentence in column]\n",
        "        average = sum(word_counts) / len(column)\n",
        "        median = statistics.median(word_counts)\n",
        "        results[model_name] = {\"average\": average, \"median\": median}\n",
        "        print(f\"{model_name} - Average Words: {average}, Median Words: {median}\")\n",
        "    return results\n",
        "\n",
        "results_word_stats = compute_word_stats({\"Manual\": column_manual, \"Llama\": column_llama, \"Qwen\": column_qwen, \"Qwen-Coder\": column_qwen_coder})"
      ]
    },
    {
      "cell_type": "code",
      "execution_count": null,
      "metadata": {
        "colab": {
          "base_uri": "https://localhost:8080/"
        },
        "id": "n0Cd7QbxJbI4",
        "outputId": "6a9c31de-315d-47c2-fc20-6b76c5878315"
      },
      "outputs": [],
      "source": [
        "def calculate_bleu_stats(column_manual, column_model, weights):\n",
        "    scores = []\n",
        "    for i in range(len(column_manual)):\n",
        "        if not column_manual[i] and not column_model[i]:\n",
        "            scores.append(1.0)  # Assign BLEU score as 1 if both are empty\n",
        "        else:\n",
        "            scores.append(sentence_bleu([column_manual[i]], column_model[i], weights=weights))\n",
        "\n",
        "    average = round(sum(scores) / len(scores), 4)\n",
        "    median = round(statistics.median(scores), 4)\n",
        "    highest = round(max(scores), 4)\n",
        "    lowest = round(min(scores), 4)\n",
        "    overall_range = round(highest - lowest, 4)\n",
        "\n",
        "    below_03 = [s for s in scores if s < 0.3]\n",
        "    between_03_05 = [s for s in scores if 0.3 <= s < 0.5]\n",
        "    above_05 = [s for s in scores if s >= 0.5]\n",
        "    total = len(scores)\n",
        "\n",
        "    def get_range(category_scores):\n",
        "        return round(max(category_scores) - min(category_scores), 4) if category_scores else 0.0\n",
        "\n",
        "    distribution = {\n",
        "        \"<0.3\": {\"count\": len(below_03), \"percentage\": round((len(below_03) / total) * 100, 2), \"range\": get_range(below_03)},\n",
        "        \"0.3 to <0.5\": {\"count\": len(between_03_05), \"percentage\": round((len(between_03_05) / total) * 100, 2), \"range\": get_range(between_03_05)},\n",
        "        \">=0.5\": {\"count\": len(above_05), \"percentage\": round((len(above_05) / total) * 100, 2), \"range\": get_range(above_05)}\n",
        "    }\n",
        "\n",
        "    print(\"Distribution:\")\n",
        "    for category, data in distribution.items():\n",
        "        print(f\"  {category}: Count = {data['count']}, Percentage = {data['percentage']}%, Range = {data['range']}\")\n",
        "\n",
        "    return {\n",
        "        \"average\": average,\n",
        "        \"median\": median,\n",
        "        \"highest\": highest,\n",
        "        \"lowest\": lowest,\n",
        "        \"overall_range\": overall_range,\n",
        "        \"scores\": scores,\n",
        "        \"distribution\": distribution\n",
        "    }\n",
        "\n",
        "def compute_bleu_scores(column_manual, column_llama, column_qwen, column_qwen_coder):\n",
        "    models = {\"Llama\": column_llama, \"Qwen\": column_qwen, \"Qwen-Coder\": column_qwen_coder}\n",
        "    weights_list = {\"BLEU-1\": (1.0, 0, 0, 0), \"BLEU-2\": (0.5, 0.5), \"BLEU-3\": (0.33, 0.33, 0.33), \"BLEU-4\": (0.25, 0.25, 0.25, 0.25)}\n",
        "\n",
        "    results = {}\n",
        "    for model_name, column_model in models.items():\n",
        "        results[model_name] = {}\n",
        "        for bleu_name, weights in weights_list.items():\n",
        "            stats = calculate_bleu_stats(column_manual, column_model, weights)\n",
        "            results[model_name][bleu_name] = stats\n",
        "            print(f\"{model_name} {bleu_name} - Avg: {stats['average']}, Median: {stats['median']}, Highest: {stats['highest']}, Lowest: {stats['lowest']}, Overall Range: {stats['overall_range']}\")\n",
        "\n",
        "    return results\n",
        "\n",
        "results = compute_bleu_scores(column_manual, column_llama, column_qwen, column_qwen_coder)"
      ]
    },
    {
      "cell_type": "code",
      "execution_count": null,
      "metadata": {
        "colab": {
          "base_uri": "https://localhost:8080/"
        },
        "id": "_2STqhQw-InB",
        "outputId": "30cc0561-e802-4463-b2fe-3dc8a3ce70bf"
      },
      "outputs": [],
      "source": [
        "def calculate_bleu_stats(bleu, llama_bleu_scores, qwen_bleu_scores, qwen_coder_bleu_scores, column_manual, column_llama, column_qwen, column_qwen_coder):\n",
        "    def calculate_filtered_stats(condition):\n",
        "        filtered_word_counts = {\"manual\": [], \"llama\": [], \"qwen\": [], \"qwen_coder\": []}\n",
        "\n",
        "        for i in range(len(llama_bleu_scores)):\n",
        "            if condition(llama_bleu_scores[i], qwen_bleu_scores[i], qwen_coder_bleu_scores[i]):\n",
        "                filtered_word_counts[\"manual\"].append(len(column_manual[i].split()))\n",
        "                filtered_word_counts[\"llama\"].append(len(column_llama[i].split()))\n",
        "                filtered_word_counts[\"qwen\"].append(len(column_qwen[i].split()))\n",
        "                filtered_word_counts[\"qwen_coder\"].append(len(column_qwen_coder[i].split()))\n",
        "\n",
        "        count = len(filtered_word_counts[\"manual\"])\n",
        "        if count == 0:\n",
        "            print(\"No matching entries found.\")\n",
        "            return\n",
        "\n",
        "        print(count)\n",
        "        for key in filtered_word_counts:\n",
        "            print(\"Average \", key, \":\", sum(filtered_word_counts[key]) / count)\n",
        "            print(\"Median \", key, \":\", statistics.median(filtered_word_counts[key]))\n",
        "\n",
        "    print(f\"## Low BLEU-{bleu} Scores (<0.3)\")\n",
        "    calculate_filtered_stats(lambda l, q, qc: l < 0.3 and q < 0.3 and qc < 0.3)\n",
        "\n",
        "    print(\"-----------------------------------------------------\")\n",
        "\n",
        "    print(f\"## High BLEU-{bleu} Scores (>0.5)\")\n",
        "    calculate_filtered_stats(lambda l, q, qc: l > 0.5 and q > 0.5 and qc > 0.5)\n",
        "\n",
        "\n",
        "calculate_bleu_stats(2, results['Llama']['BLEU-2']['scores'], results['Qwen']['BLEU-2']['scores'], results['Qwen-Coder']['BLEU-2']['scores'], column_manual, column_llama, column_qwen, column_qwen_coder)\n",
        "\n",
        "print(\"\\n#######################################################\\n\")\n",
        "\n",
        "calculate_bleu_stats(4, results['Llama']['BLEU-4']['scores'], results['Qwen']['BLEU-4']['scores'], results['Qwen-Coder']['BLEU-4']['scores'], column_manual, column_llama, column_qwen, column_qwen_coder)"
      ]
    }
  ],
  "metadata": {
    "colab": {
      "provenance": []
    },
    "kernelspec": {
      "display_name": ".venv",
      "language": "python",
      "name": "python3"
    },
    "language_info": {
      "codemirror_mode": {
        "name": "ipython",
        "version": 3
      },
      "file_extension": ".py",
      "mimetype": "text/x-python",
      "name": "python",
      "nbconvert_exporter": "python",
      "pygments_lexer": "ipython3",
      "version": "3.10.6"
    }
  },
  "nbformat": 4,
  "nbformat_minor": 0
}
