{
  "cells": [
    {
      "cell_type": "code",
      "execution_count": 2,
      "metadata": {
        "colab": {
          "base_uri": "https://localhost:8080/"
        },
        "id": "qZFszMCv-Im6",
        "outputId": "1f260704-708e-4fcf-a155-054640ec8160"
      },
      "outputs": [
        {
          "name": "stderr",
          "output_type": "stream",
          "text": [
            "[nltk_data] Downloading package wordnet to /root/nltk_data...\n",
            "[nltk_data] Downloading package omw-1.4 to /root/nltk_data...\n",
            "[nltk_data] Downloading package punkt_tab to /root/nltk_data...\n",
            "[nltk_data]   Unzipping tokenizers/punkt_tab.zip.\n",
            "[nltk_data] Downloading package stopwords to /root/nltk_data...\n",
            "[nltk_data]   Unzipping corpora/stopwords.zip.\n",
            "[nltk_data] Downloading package averaged_perceptron_tagger_eng to\n",
            "[nltk_data]     /root/nltk_data...\n",
            "[nltk_data]   Unzipping taggers/averaged_perceptron_tagger_eng.zip.\n"
          ]
        }
      ],
      "source": [
        "import re\n",
        "import csv\n",
        "import nltk\n",
        "import statistics\n",
        "\n",
        "nltk.download('wordnet')\n",
        "nltk.download('omw-1.4')\n",
        "nltk.download('punkt_tab')\n",
        "nltk.download('stopwords')\n",
        "nltk.download('averaged_perceptron_tagger_eng')\n",
        "\n",
        "from nltk.stem import WordNetLemmatizer\n",
        "from nltk.stem.porter import PorterStemmer\n",
        "from nltk.corpus import stopwords, wordnet\n",
        "from nltk.translate.bleu_score import sentence_bleu"
      ]
    },
    {
      "cell_type": "code",
      "execution_count": 3,
      "metadata": {
        "id": "fAkplXJN-Im8"
      },
      "outputs": [],
      "source": [
        "lemmatizer = WordNetLemmatizer()\n",
        "stemmer = PorterStemmer()\n",
        "stop_words = set(stopwords.words('english'))\n",
        "\n",
        "\n",
        "def text_cleaning(text: str) -> str:\n",
        "    text = str(text)\n",
        "\n",
        "    text = text.encode(\"ascii\", \"ignore\").decode()\n",
        "\n",
        "    text = re.sub(r'[^\\w\\s]', ' ', text)\n",
        "    text = re.sub(r'\\s+', ' ', text).strip().lower()\n",
        "\n",
        "    # Tokenization\n",
        "    words = nltk.word_tokenize(text)\n",
        "\n",
        "    # POS tagging and Lemmatization\n",
        "    pos_tags = nltk.pos_tag(words)\n",
        "    pos_map = {'N': wordnet.NOUN, 'V': wordnet.VERB, 'R': wordnet.ADV, 'J': wordnet.ADJ}\n",
        "    lemmatized_words = [lemmatizer.lemmatize(word, pos_map.get(pos[0], wordnet.NOUN)) for word, pos in pos_tags]\n",
        "\n",
        "    # Stemming\n",
        "    stemmed_words = [stemmer.stem(word) for word in lemmatized_words]\n",
        "\n",
        "    return ' '.join(stemmed_words)"
      ]
    },
    {
      "cell_type": "code",
      "execution_count": 4,
      "metadata": {
        "id": "GDMVl6nr-Im9"
      },
      "outputs": [],
      "source": [
        "column_manual = []\n",
        "column_llama = []\n",
        "column_qwen = []\n",
        "column_qwen_coder = []\n",
        "\n",
        "\n",
        "with open('input-v1.csv', 'r', encoding='utf-8') as csv_file:\n",
        "    csv_reader = csv.reader(csv_file, delimiter=',')\n",
        "    next(csv_reader)\n",
        "    idx = 0\n",
        "    for row in csv_reader:\n",
        "        column_manual.append(text_cleaning(row[1]))\n",
        "        column_llama.append(text_cleaning(row[2]))\n",
        "        column_qwen.append(text_cleaning(row[3]))\n",
        "        column_qwen_coder.append(text_cleaning(row[4]))"
      ]
    },
    {
      "cell_type": "code",
      "execution_count": 5,
      "metadata": {
        "colab": {
          "base_uri": "https://localhost:8080/"
        },
        "id": "4udLQ-XaKLnV",
        "outputId": "dd6ca518-927d-451c-dd64-45af01974f8f"
      },
      "outputs": [
        {
          "name": "stdout",
          "output_type": "stream",
          "text": [
            "Manual - Average Words: 8.58252427184466, Median Words: 5.5\n",
            "Llama - Average Words: 27.87864077669903, Median Words: 11.5\n",
            "Qwen - Average Words: 14.266990291262136, Median Words: 2.5\n",
            "Qwen-Coder - Average Words: 9.37864077669903, Median Words: 0.0\n"
          ]
        }
      ],
      "source": [
        "def compute_word_stats(columns):\n",
        "    results = {}\n",
        "    for model_name, column in columns.items():\n",
        "        word_counts = [len(sentence.split()) for sentence in column]\n",
        "        average = sum(word_counts) / len(column)\n",
        "        median = statistics.median(word_counts)\n",
        "        results[model_name] = {\"average\": average, \"median\": median}\n",
        "        print(f\"{model_name} - Average Words: {average}, Median Words: {median}\")\n",
        "    return results\n",
        "\n",
        "results_word_stats = compute_word_stats({\"Manual\": column_manual, \"Llama\": column_llama, \"Qwen\": column_qwen, \"Qwen-Coder\": column_qwen_coder})"
      ]
    },
    {
      "cell_type": "code",
      "execution_count": 6,
      "metadata": {
        "colab": {
          "base_uri": "https://localhost:8080/"
        },
        "id": "n0Cd7QbxJbI4",
        "outputId": "37f8f372-0d48-4543-ae89-fd84671f9529"
      },
      "outputs": [
        {
          "name": "stdout",
          "output_type": "stream",
          "text": [
            "Llama BLEU-1 - Average: 0.38870794788165225, Median: 0.2058920887123469\n",
            "Llama BLEU-2 - Average: 0.3736304205514204, Median: 0.17588800418798836\n"
          ]
        },
        {
          "name": "stderr",
          "output_type": "stream",
          "text": [
            "/usr/local/lib/python3.11/dist-packages/nltk/translate/bleu_score.py:577: UserWarning: \n",
            "The hypothesis contains 0 counts of 4-gram overlaps.\n",
            "Therefore the BLEU score evaluates to 0, independently of\n",
            "how many N-gram overlaps of lower order it contains.\n",
            "Consider using lower n-gram order or use SmoothingFunction()\n",
            "  warnings.warn(_msg)\n",
            "/usr/local/lib/python3.11/dist-packages/nltk/translate/bleu_score.py:577: UserWarning: \n",
            "The hypothesis contains 0 counts of 2-gram overlaps.\n",
            "Therefore the BLEU score evaluates to 0, independently of\n",
            "how many N-gram overlaps of lower order it contains.\n",
            "Consider using lower n-gram order or use SmoothingFunction()\n",
            "  warnings.warn(_msg)\n",
            "/usr/local/lib/python3.11/dist-packages/nltk/translate/bleu_score.py:577: UserWarning: \n",
            "The hypothesis contains 0 counts of 3-gram overlaps.\n",
            "Therefore the BLEU score evaluates to 0, independently of\n",
            "how many N-gram overlaps of lower order it contains.\n",
            "Consider using lower n-gram order or use SmoothingFunction()\n",
            "  warnings.warn(_msg)\n"
          ]
        },
        {
          "name": "stdout",
          "output_type": "stream",
          "text": [
            "Llama BLEU-3 - Average: 0.36707843454630623, Median: 0.16743201732252183\n",
            "Llama BLEU-4 - Average: 0.3553639246232379, Median: 0.1481395615151846\n",
            "Qwen BLEU-1 - Average: 0.35986402352747426, Median: 0.0\n",
            "Qwen BLEU-2 - Average: 0.3532078173804647, Median: 0.0\n",
            "Qwen BLEU-3 - Average: 0.34836831071746893, Median: 0.0\n",
            "Qwen BLEU-4 - Average: 0.3399081574608633, Median: 0.0\n",
            "Qwen-Coder BLEU-1 - Average: 0.2918088141848435, Median: 0.0\n",
            "Qwen-Coder BLEU-2 - Average: 0.2844759601774713, Median: 0.0\n",
            "Qwen-Coder BLEU-3 - Average: 0.27998196190208696, Median: 0.0\n",
            "Qwen-Coder BLEU-4 - Average: 0.276757810163761, Median: 0.0\n"
          ]
        }
      ],
      "source": [
        "from nltk.translate.bleu_score import sentence_bleu\n",
        "\n",
        "def calculate_avg_median(column_manual, column_model, weights):\n",
        "    scores = [sentence_bleu([column_manual[i]], column_model[i], weights=weights) for i in range(len(column_manual))]\n",
        "    average = sum(scores) / len(scores)\n",
        "    median = statistics.median(scores)\n",
        "    return average, median, scores\n",
        "\n",
        "def compute_bleu_scores(column_manual, column_llama, column_qwen, column_qwen_coder):\n",
        "    models = {\n",
        "        \"Llama\": column_llama,\n",
        "        \"Qwen\": column_qwen,\n",
        "        \"Qwen-Coder\": column_qwen_coder\n",
        "    }\n",
        "    weights_list = {\n",
        "        \"BLEU-1\": (1.0, 0, 0, 0),\n",
        "        \"BLEU-2\": (0.5, 0.5),\n",
        "        \"BLEU-3\": (0.33, 0.33, 0.33),\n",
        "        \"BLEU-4\": (0.25, 0.25, 0.25, 0.25)\n",
        "    }\n",
        "\n",
        "    results = {}\n",
        "    for model_name, column_model in models.items():\n",
        "        results[model_name] = {}\n",
        "        for bleu_name, weights in weights_list.items():\n",
        "            avg, median, scores = calculate_avg_median(column_manual, column_model, weights)\n",
        "            results[model_name][bleu_name] = {\"average\": avg, \"median\": median, \"scores\": scores}\n",
        "            print(f\"{model_name} {bleu_name} - Average: {avg}, Median: {median}\")\n",
        "\n",
        "    return results\n",
        "\n",
        "results = compute_bleu_scores(column_manual, column_llama, column_qwen, column_qwen_coder)"
      ]
    },
    {
      "cell_type": "code",
      "execution_count": 7,
      "metadata": {
        "colab": {
          "base_uri": "https://localhost:8080/"
        },
        "id": "_2STqhQw-InB",
        "outputId": "52d5e06f-89f6-4ca7-ddc2-c647e8a14e25"
      },
      "outputs": [
        {
          "name": "stdout",
          "output_type": "stream",
          "text": [
            "## Low BLEU-2 Scores (<0.3)\n",
            "98\n",
            "Average  manual : 3.8877551020408165\n",
            "Median  manual : 0.0\n",
            "Average  llama : 36.03061224489796\n",
            "Median  llama : 4.5\n",
            "Average  qwen : 15.60204081632653\n",
            "Median  qwen : 0.0\n",
            "Average  qwen_coder : 10.60204081632653\n",
            "Median  qwen_coder : 0.0\n",
            "-----------------------------------------------------\n",
            "## High BLEU-2 Scores (>0.5)\n",
            "49\n",
            "Average  manual : 11.877551020408163\n",
            "Median  manual : 9\n",
            "Average  llama : 13.306122448979592\n",
            "Median  llama : 10\n",
            "Average  qwen : 12.489795918367347\n",
            "Median  qwen : 9\n",
            "Average  qwen_coder : 12.244897959183673\n",
            "Median  qwen_coder : 10\n",
            "\n",
            "#######################################################\n",
            "\n",
            "## Low BLEU-4 Scores (<0.3)\n",
            "102\n",
            "Average  manual : 4.147058823529412\n",
            "Median  manual : 0.0\n",
            "Average  llama : 35.833333333333336\n",
            "Median  llama : 5.0\n",
            "Average  qwen : 15.872549019607844\n",
            "Median  qwen : 0.0\n",
            "Average  qwen_coder : 10.264705882352942\n",
            "Median  qwen_coder : 0.0\n",
            "-----------------------------------------------------\n",
            "## High BLEU-4 Scores (>0.5)\n",
            "46\n",
            "Average  manual : 11.826086956521738\n",
            "Median  manual : 8.5\n",
            "Average  llama : 13.0\n",
            "Median  llama : 10.0\n",
            "Average  qwen : 12.521739130434783\n",
            "Median  qwen : 8.5\n",
            "Average  qwen_coder : 12.282608695652174\n",
            "Median  qwen_coder : 9.5\n"
          ]
        }
      ],
      "source": [
        "def calculate_bleu_stats(bleu, llama_bleu_scores, qwen_bleu_scores, qwen_coder_bleu_scores, column_manual, column_llama, column_qwen, column_qwen_coder):\n",
        "    def calculate_filtered_stats(condition):\n",
        "        filtered_word_counts = {\"manual\": [], \"llama\": [], \"qwen\": [], \"qwen_coder\": []}\n",
        "\n",
        "        for i in range(len(llama_bleu_scores)):\n",
        "            if condition(llama_bleu_scores[i], qwen_bleu_scores[i], qwen_coder_bleu_scores[i]):\n",
        "                filtered_word_counts[\"manual\"].append(len(column_manual[i].split()))\n",
        "                filtered_word_counts[\"llama\"].append(len(column_llama[i].split()))\n",
        "                filtered_word_counts[\"qwen\"].append(len(column_qwen[i].split()))\n",
        "                filtered_word_counts[\"qwen_coder\"].append(len(column_qwen_coder[i].split()))\n",
        "\n",
        "        count = len(filtered_word_counts[\"manual\"])\n",
        "        if count == 0:\n",
        "            print(\"No matching entries found.\")\n",
        "            return\n",
        "\n",
        "        print(count)\n",
        "        for key in filtered_word_counts:\n",
        "            print(\"Average \", key, \":\", sum(filtered_word_counts[key]) / count)\n",
        "            print(\"Median \", key, \":\", statistics.median(filtered_word_counts[key]))\n",
        "\n",
        "    print(f\"## Low BLEU-{bleu} Scores (<0.3)\")\n",
        "    calculate_filtered_stats(lambda l, q, qc: l < 0.3 and q < 0.3 and qc < 0.3)\n",
        "\n",
        "    print(\"-----------------------------------------------------\")\n",
        "\n",
        "    print(f\"## High BLEU-{bleu} Scores (>0.5)\")\n",
        "    calculate_filtered_stats(lambda l, q, qc: l > 0.5 and q > 0.5 and qc > 0.5)\n",
        "\n",
        "\n",
        "calculate_bleu_stats(2, results['Llama']['BLEU-2']['scores'], results['Qwen']['BLEU-2']['scores'], results['Qwen-Coder']['BLEU-2']['scores'], column_manual, column_llama, column_qwen, column_qwen_coder)\n",
        "\n",
        "print(\"\\n#######################################################\\n\")\n",
        "\n",
        "calculate_bleu_stats(4, results['Llama']['BLEU-4']['scores'], results['Qwen']['BLEU-4']['scores'], results['Qwen-Coder']['BLEU-4']['scores'], column_manual, column_llama, column_qwen, column_qwen_coder)"
      ]
    }
  ],
  "metadata": {
    "colab": {
      "provenance": []
    },
    "kernelspec": {
      "display_name": ".venv",
      "language": "python",
      "name": "python3"
    },
    "language_info": {
      "codemirror_mode": {
        "name": "ipython",
        "version": 3
      },
      "file_extension": ".py",
      "mimetype": "text/x-python",
      "name": "python",
      "nbconvert_exporter": "python",
      "pygments_lexer": "ipython3",
      "version": "3.10.6"
    }
  },
  "nbformat": 4,
  "nbformat_minor": 0
}
