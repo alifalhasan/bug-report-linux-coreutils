{
  "cells": [
    {
      "cell_type": "code",
      "execution_count": 1,
      "metadata": {
        "colab": {
          "base_uri": "https://localhost:8080/"
        },
        "id": "j1KmY_MlIG17",
        "outputId": "6d05b2bb-8da2-4a7c-aa6c-43c05df031e1"
      },
      "outputs": [
        {
          "output_type": "stream",
          "name": "stdout",
          "text": [
            "Mounted at /content/drive\n",
            "/content/drive/MyDrive\n"
          ]
        }
      ],
      "source": [
        "from google.colab import drive\n",
        "drive.mount('/content/drive')\n",
        "\n",
        "%cd /content/drive/MyDrive"
      ]
    },
    {
      "cell_type": "code",
      "execution_count": 2,
      "metadata": {
        "colab": {
          "base_uri": "https://localhost:8080/"
        },
        "id": "qZFszMCv-Im6",
        "outputId": "0c95c293-80a6-4f7b-f247-7305c2d8f42f"
      },
      "outputs": [
        {
          "output_type": "stream",
          "name": "stderr",
          "text": [
            "[nltk_data] Downloading package wordnet to /root/nltk_data...\n",
            "[nltk_data] Downloading package omw-1.4 to /root/nltk_data...\n",
            "[nltk_data] Downloading package punkt_tab to /root/nltk_data...\n",
            "[nltk_data]   Unzipping tokenizers/punkt_tab.zip.\n",
            "[nltk_data] Downloading package stopwords to /root/nltk_data...\n",
            "[nltk_data]   Unzipping corpora/stopwords.zip.\n",
            "[nltk_data] Downloading package averaged_perceptron_tagger_eng to\n",
            "[nltk_data]     /root/nltk_data...\n",
            "[nltk_data]   Unzipping taggers/averaged_perceptron_tagger_eng.zip.\n"
          ]
        }
      ],
      "source": [
        "import re\n",
        "import csv\n",
        "import nltk\n",
        "import statistics\n",
        "\n",
        "nltk.download('wordnet')\n",
        "nltk.download('omw-1.4')\n",
        "nltk.download('punkt_tab')\n",
        "nltk.download('stopwords')\n",
        "nltk.download('averaged_perceptron_tagger_eng')\n",
        "\n",
        "from nltk.stem import WordNetLemmatizer\n",
        "from nltk.stem.porter import PorterStemmer\n",
        "from nltk.corpus import stopwords, wordnet\n",
        "from nltk.translate.bleu_score import sentence_bleu"
      ]
    },
    {
      "cell_type": "code",
      "execution_count": 3,
      "metadata": {
        "id": "fAkplXJN-Im8"
      },
      "outputs": [],
      "source": [
        "lemmatizer = WordNetLemmatizer()\n",
        "stemmer = PorterStemmer()\n",
        "stop_words = set(stopwords.words('english'))\n",
        "\n",
        "\n",
        "def text_cleaning(text: str) -> str:\n",
        "    text = str(text)\n",
        "\n",
        "    text = text.encode(\"ascii\", \"ignore\").decode()\n",
        "\n",
        "    text = re.sub(r'[^\\w\\s]', ' ', text)\n",
        "    text = re.sub(r'\\s+', ' ', text).strip().lower()\n",
        "\n",
        "    # Tokenization\n",
        "    words = nltk.word_tokenize(text)\n",
        "\n",
        "    # POS tagging and Lemmatization\n",
        "    pos_tags = nltk.pos_tag(words)\n",
        "    pos_map = {'N': wordnet.NOUN, 'V': wordnet.VERB, 'R': wordnet.ADV, 'J': wordnet.ADJ}\n",
        "    lemmatized_words = [lemmatizer.lemmatize(word, pos_map.get(pos[0], wordnet.NOUN)) for word, pos in pos_tags]\n",
        "\n",
        "    # Stemming\n",
        "    stemmed_words = [stemmer.stem(word) for word in lemmatized_words]\n",
        "\n",
        "    return ' '.join(stemmed_words)"
      ]
    },
    {
      "cell_type": "code",
      "execution_count": 4,
      "metadata": {
        "id": "GDMVl6nr-Im9"
      },
      "outputs": [],
      "source": [
        "column_manual = []\n",
        "column_llama = []\n",
        "column_qwen = []\n",
        "column_qwen_coder = []\n",
        "\n",
        "\n",
        "with open('input-v2.csv', 'r', encoding='utf-8') as csv_file:\n",
        "    csv_reader = csv.reader(csv_file, delimiter=',')\n",
        "    next(csv_reader)\n",
        "    idx = 0\n",
        "    for row in csv_reader:\n",
        "        column_manual.append(text_cleaning(row[1]))\n",
        "        column_llama.append(text_cleaning(row[2]))\n",
        "        column_qwen.append(text_cleaning(row[3]))\n",
        "        column_qwen_coder.append(text_cleaning(row[4]))"
      ]
    },
    {
      "cell_type": "code",
      "source": [
        "def compute_word_stats(columns):\n",
        "    results = {}\n",
        "    for model_name, column in columns.items():\n",
        "        word_counts = [len(sentence.split()) for sentence in column]\n",
        "        average = sum(word_counts) / len(column)\n",
        "        median = statistics.median(word_counts)\n",
        "        results[model_name] = {\"average\": average, \"median\": median}\n",
        "        print(f\"{model_name} - Average Words: {average}, Median Words: {median}\")\n",
        "    return results\n",
        "\n",
        "results_word_stats = compute_word_stats({\"Manual\": column_manual, \"Llama\": column_llama, \"Qwen\": column_qwen, \"Qwen-Coder\": column_qwen_coder})"
      ],
      "metadata": {
        "colab": {
          "base_uri": "https://localhost:8080/"
        },
        "id": "4udLQ-XaKLnV",
        "outputId": "88ddc5ca-9f65-431b-894f-63104051e8ca"
      },
      "execution_count": 5,
      "outputs": [
        {
          "output_type": "stream",
          "name": "stdout",
          "text": [
            "Manual - Average Words: 9.562162162162162, Median Words: 6\n",
            "Llama - Average Words: 21.686486486486487, Median Words: 7\n",
            "Qwen - Average Words: 26.216216216216218, Median Words: 4\n",
            "Qwen-Coder - Average Words: 9.172972972972973, Median Words: 2\n"
          ]
        }
      ]
    },
    {
      "cell_type": "code",
      "source": [
        "from nltk.translate.bleu_score import sentence_bleu\n",
        "\n",
        "def calculate_avg_median(column_manual, column_model, weights):\n",
        "    scores = [sentence_bleu([column_manual[i]], column_model[i], weights=weights) for i in range(len(column_manual))]\n",
        "    average = sum(scores) / len(scores)\n",
        "    median = statistics.median(scores)\n",
        "    return average, median, scores\n",
        "\n",
        "def compute_bleu_scores(column_manual, column_llama, column_qwen, column_qwen_coder):\n",
        "    models = {\n",
        "        \"Llama\": column_llama,\n",
        "        \"Qwen\": column_qwen,\n",
        "        \"Qwen-Coder\": column_qwen_coder\n",
        "    }\n",
        "    weights_list = {\n",
        "        \"BLEU-1\": (1.0, 0, 0, 0),\n",
        "        \"BLEU-2\": (0.5, 0.5),\n",
        "        \"BLEU-3\": (0.33, 0.33, 0.33),\n",
        "        \"BLEU-4\": (0.25, 0.25, 0.25, 0.25)\n",
        "    }\n",
        "\n",
        "    results = {}\n",
        "    for model_name, column_model in models.items():\n",
        "        results[model_name] = {}\n",
        "        for bleu_name, weights in weights_list.items():\n",
        "            avg, median, scores = calculate_avg_median(column_manual, column_model, weights)\n",
        "            results[model_name][bleu_name] = {\"average\": avg, \"median\": median, \"scores\": scores}\n",
        "            print(f\"{model_name} {bleu_name} - Average: {avg}, Median: {median}\")\n",
        "\n",
        "    return results\n",
        "\n",
        "results = compute_bleu_scores(column_manual, column_llama, column_qwen, column_qwen_coder)"
      ],
      "metadata": {
        "colab": {
          "base_uri": "https://localhost:8080/"
        },
        "id": "n0Cd7QbxJbI4",
        "outputId": "64b40881-7b65-45d5-be25-bd2a6a895ac0"
      },
      "execution_count": 6,
      "outputs": [
        {
          "output_type": "stream",
          "name": "stdout",
          "text": [
            "Llama BLEU-1 - Average: 0.3761302290713021, Median: 0.2564102564102564\n",
            "Llama BLEU-2 - Average: 0.3542156929620382, Median: 0.20341905108624314\n"
          ]
        },
        {
          "output_type": "stream",
          "name": "stderr",
          "text": [
            "/usr/local/lib/python3.11/dist-packages/nltk/translate/bleu_score.py:577: UserWarning: \n",
            "The hypothesis contains 0 counts of 4-gram overlaps.\n",
            "Therefore the BLEU score evaluates to 0, independently of\n",
            "how many N-gram overlaps of lower order it contains.\n",
            "Consider using lower n-gram order or use SmoothingFunction()\n",
            "  warnings.warn(_msg)\n",
            "/usr/local/lib/python3.11/dist-packages/nltk/translate/bleu_score.py:577: UserWarning: \n",
            "The hypothesis contains 0 counts of 2-gram overlaps.\n",
            "Therefore the BLEU score evaluates to 0, independently of\n",
            "how many N-gram overlaps of lower order it contains.\n",
            "Consider using lower n-gram order or use SmoothingFunction()\n",
            "  warnings.warn(_msg)\n",
            "/usr/local/lib/python3.11/dist-packages/nltk/translate/bleu_score.py:577: UserWarning: \n",
            "The hypothesis contains 0 counts of 3-gram overlaps.\n",
            "Therefore the BLEU score evaluates to 0, independently of\n",
            "how many N-gram overlaps of lower order it contains.\n",
            "Consider using lower n-gram order or use SmoothingFunction()\n",
            "  warnings.warn(_msg)\n"
          ]
        },
        {
          "output_type": "stream",
          "name": "stdout",
          "text": [
            "Llama BLEU-3 - Average: 0.33926807259834274, Median: 0.15848174614372246\n",
            "Llama BLEU-4 - Average: 0.3226516964486028, Median: 0.11393021866798646\n",
            "Qwen BLEU-1 - Average: 0.26502190859506336, Median: 0.03605965440426316\n",
            "Qwen BLEU-2 - Average: 0.2518334127869017, Median: 0.028541978659718838\n",
            "Qwen BLEU-3 - Average: 0.24017202412291924, Median: 0.011543196283243247\n",
            "Qwen BLEU-4 - Average: 0.22734022792602443, Median: 1.186881559607099e-78\n",
            "Qwen-Coder BLEU-1 - Average: 0.3162565759690838, Median: 0\n",
            "Qwen-Coder BLEU-2 - Average: 0.30394844185169995, Median: 0\n",
            "Qwen-Coder BLEU-3 - Average: 0.2946234620390299, Median: 0\n",
            "Qwen-Coder BLEU-4 - Average: 0.2851266338480871, Median: 0\n"
          ]
        }
      ]
    },
    {
      "cell_type": "code",
      "execution_count": 7,
      "metadata": {
        "colab": {
          "base_uri": "https://localhost:8080/"
        },
        "id": "_2STqhQw-InB",
        "outputId": "af3cb965-ad19-4480-d918-b94c664ef32f"
      },
      "outputs": [
        {
          "output_type": "stream",
          "name": "stdout",
          "text": [
            "## Low BLEU-2 Scores (<0.3)\n",
            "93\n",
            "Average  manual : 7.354838709677419\n",
            "Median  manual : 3\n",
            "Average  llama : 24.731182795698924\n",
            "Median  llama : 2\n",
            "Average  qwen : 25.473118279569892\n",
            "Median  qwen : 0\n",
            "Average  qwen_coder : 11.129032258064516\n",
            "Median  qwen_coder : 0\n",
            "-----------------------------------------------------\n",
            "## High BLEU-2 Scores (>0.5)\n",
            "26\n",
            "Average  manual : 9.538461538461538\n",
            "Median  manual : 7.0\n",
            "Average  llama : 10.461538461538462\n",
            "Median  llama : 8.5\n",
            "Average  qwen : 10.153846153846153\n",
            "Median  qwen : 7.0\n",
            "Average  qwen_coder : 9.846153846153847\n",
            "Median  qwen_coder : 8.0\n",
            "\n",
            "#######################################################\n",
            "\n",
            "## Low BLEU-4 Scores (<0.3)\n",
            "99\n",
            "Average  manual : 9.777777777777779\n",
            "Median  manual : 4\n",
            "Average  llama : 26.454545454545453\n",
            "Median  llama : 2\n",
            "Average  qwen : 25.585858585858585\n",
            "Median  qwen : 0\n",
            "Average  qwen_coder : 10.707070707070708\n",
            "Median  qwen_coder : 0\n",
            "-----------------------------------------------------\n",
            "## High BLEU-4 Scores (>0.5)\n",
            "24\n",
            "Average  manual : 9.875\n",
            "Median  manual : 7.0\n",
            "Average  llama : 10.708333333333334\n",
            "Median  llama : 8.5\n",
            "Average  qwen : 10.416666666666666\n",
            "Median  qwen : 7.0\n",
            "Average  qwen_coder : 10.083333333333334\n",
            "Median  qwen_coder : 8.0\n"
          ]
        }
      ],
      "source": [
        "def calculate_bleu_stats(bleu, llama_bleu_scores, qwen_bleu_scores, qwen_coder_bleu_scores, column_manual, column_llama, column_qwen, column_qwen_coder):\n",
        "    def calculate_filtered_stats(condition):\n",
        "        filtered_word_counts = {\"manual\": [], \"llama\": [], \"qwen\": [], \"qwen_coder\": []}\n",
        "\n",
        "        for i in range(len(llama_bleu_scores)):\n",
        "            if condition(llama_bleu_scores[i], qwen_bleu_scores[i], qwen_coder_bleu_scores[i]):\n",
        "                filtered_word_counts[\"manual\"].append(len(column_manual[i].split()))\n",
        "                filtered_word_counts[\"llama\"].append(len(column_llama[i].split()))\n",
        "                filtered_word_counts[\"qwen\"].append(len(column_qwen[i].split()))\n",
        "                filtered_word_counts[\"qwen_coder\"].append(len(column_qwen_coder[i].split()))\n",
        "\n",
        "        count = len(filtered_word_counts[\"manual\"])\n",
        "        if count == 0:\n",
        "            print(\"No matching entries found.\")\n",
        "            return\n",
        "\n",
        "        print(count)\n",
        "        for key in filtered_word_counts:\n",
        "            print(\"Average \", key, \":\", sum(filtered_word_counts[key]) / count)\n",
        "            print(\"Median \", key, \":\", statistics.median(filtered_word_counts[key]))\n",
        "\n",
        "    print(f\"## Low BLEU-{bleu} Scores (<0.3)\")\n",
        "    calculate_filtered_stats(lambda l, q, qc: l < 0.3 and q < 0.3 and qc < 0.3)\n",
        "\n",
        "    print(\"-----------------------------------------------------\")\n",
        "\n",
        "    print(f\"## High BLEU-{bleu} Scores (>0.5)\")\n",
        "    calculate_filtered_stats(lambda l, q, qc: l > 0.5 and q > 0.5 and qc > 0.5)\n",
        "\n",
        "\n",
        "calculate_bleu_stats(2, results['Llama']['BLEU-2']['scores'], results['Qwen']['BLEU-2']['scores'], results['Qwen-Coder']['BLEU-2']['scores'], column_manual, column_llama, column_qwen, column_qwen_coder)\n",
        "\n",
        "print(\"\\n#######################################################\\n\")\n",
        "\n",
        "calculate_bleu_stats(4, results['Llama']['BLEU-4']['scores'], results['Qwen']['BLEU-4']['scores'], results['Qwen-Coder']['BLEU-4']['scores'], column_manual, column_llama, column_qwen, column_qwen_coder)"
      ]
    }
  ],
  "metadata": {
    "colab": {
      "provenance": []
    },
    "kernelspec": {
      "display_name": ".venv",
      "language": "python",
      "name": "python3"
    },
    "language_info": {
      "codemirror_mode": {
        "name": "ipython",
        "version": 3
      },
      "file_extension": ".py",
      "mimetype": "text/x-python",
      "name": "python",
      "nbconvert_exporter": "python",
      "pygments_lexer": "ipython3",
      "version": "3.10.6"
    }
  },
  "nbformat": 4,
  "nbformat_minor": 0
}