{
  "cells": [
    {
      "cell_type": "code",
      "execution_count": 2,
      "metadata": {
        "colab": {
          "base_uri": "https://localhost:8080/"
        },
        "id": "qZFszMCv-Im6",
        "outputId": "7ca769d6-91e3-41e1-8b2c-0ec4781eb508"
      },
      "outputs": [
        {
          "name": "stderr",
          "output_type": "stream",
          "text": [
            "[nltk_data] Downloading package wordnet to /root/nltk_data...\n",
            "[nltk_data] Downloading package omw-1.4 to /root/nltk_data...\n",
            "[nltk_data] Downloading package punkt_tab to /root/nltk_data...\n",
            "[nltk_data]   Unzipping tokenizers/punkt_tab.zip.\n",
            "[nltk_data] Downloading package stopwords to /root/nltk_data...\n",
            "[nltk_data]   Unzipping corpora/stopwords.zip.\n",
            "[nltk_data] Downloading package averaged_perceptron_tagger_eng to\n",
            "[nltk_data]     /root/nltk_data...\n",
            "[nltk_data]   Unzipping taggers/averaged_perceptron_tagger_eng.zip.\n"
          ]
        }
      ],
      "source": [
        "import re\n",
        "import csv\n",
        "import nltk\n",
        "import statistics\n",
        "\n",
        "nltk.download('wordnet')\n",
        "nltk.download('omw-1.4')\n",
        "nltk.download('punkt_tab')\n",
        "nltk.download('stopwords')\n",
        "nltk.download('averaged_perceptron_tagger_eng')\n",
        "\n",
        "from nltk.stem import WordNetLemmatizer\n",
        "from nltk.stem.porter import PorterStemmer\n",
        "from nltk.corpus import stopwords, wordnet\n",
        "from nltk.translate.bleu_score import sentence_bleu"
      ]
    },
    {
      "cell_type": "code",
      "execution_count": 3,
      "metadata": {
        "id": "fAkplXJN-Im8"
      },
      "outputs": [],
      "source": [
        "lemmatizer = WordNetLemmatizer()\n",
        "stemmer = PorterStemmer()\n",
        "stop_words = set(stopwords.words('english'))\n",
        "\n",
        "\n",
        "def text_cleaning(text: str) -> str:\n",
        "    text = str(text)\n",
        "\n",
        "    text = text.encode(\"ascii\", \"ignore\").decode()\n",
        "\n",
        "    text = re.sub(r'[^\\w\\s]', ' ', text)\n",
        "    text = re.sub(r'\\s+', ' ', text).strip().lower()\n",
        "\n",
        "    # Tokenization\n",
        "    words = nltk.word_tokenize(text)\n",
        "\n",
        "    # POS tagging and Lemmatization\n",
        "    pos_tags = nltk.pos_tag(words)\n",
        "    pos_map = {'N': wordnet.NOUN, 'V': wordnet.VERB, 'R': wordnet.ADV, 'J': wordnet.ADJ}\n",
        "    lemmatized_words = [lemmatizer.lemmatize(word, pos_map.get(pos[0], wordnet.NOUN)) for word, pos in pos_tags]\n",
        "\n",
        "    # Stemming\n",
        "    stemmed_words = [stemmer.stem(word) for word in lemmatized_words]\n",
        "\n",
        "    return ' '.join(stemmed_words)"
      ]
    },
    {
      "cell_type": "code",
      "execution_count": 4,
      "metadata": {
        "id": "GDMVl6nr-Im9"
      },
      "outputs": [],
      "source": [
        "column_manual = []\n",
        "column_llama = []\n",
        "column_qwen = []\n",
        "column_qwen_coder = []\n",
        "\n",
        "\n",
        "with open('input-v2.csv', 'r', encoding='utf-8') as csv_file:\n",
        "    csv_reader = csv.reader(csv_file, delimiter=',')\n",
        "    next(csv_reader)\n",
        "    idx = 0\n",
        "    for row in csv_reader:\n",
        "        column_manual.append(text_cleaning(row[1]))\n",
        "        column_llama.append(text_cleaning(row[2]))\n",
        "        column_qwen.append(text_cleaning(row[3]))\n",
        "        column_qwen_coder.append(text_cleaning(row[4]))"
      ]
    },
    {
      "cell_type": "code",
      "execution_count": 5,
      "metadata": {
        "colab": {
          "base_uri": "https://localhost:8080/"
        },
        "id": "1DbUmgYp-Im9",
        "outputId": "988b6c46-09ec-4985-d50e-e928d883b733"
      },
      "outputs": [
        {
          "name": "stdout",
          "output_type": "stream",
          "text": [
            "Manual\n",
            "Average: 9.562162162162162\n",
            "Median: 6\n"
          ]
        }
      ],
      "source": [
        "word_counts = [len(sentence.split()) for sentence in column_manual]\n",
        "\n",
        "average = sum(word_counts) / len(column_manual)\n",
        "median = statistics.median(word_counts)\n",
        "\n",
        "print(\"Manual\")\n",
        "print(\"Average:\", average)\n",
        "print(\"Median:\", median)"
      ]
    },
    {
      "cell_type": "code",
      "execution_count": 6,
      "metadata": {
        "colab": {
          "base_uri": "https://localhost:8080/"
        },
        "id": "a8DfB6Ku-Im-",
        "outputId": "60db6470-f6a2-4396-91be-815310f60627"
      },
      "outputs": [
        {
          "name": "stdout",
          "output_type": "stream",
          "text": [
            "Llama\n",
            "Average: 21.686486486486487\n",
            "Median: 7\n"
          ]
        }
      ],
      "source": [
        "word_counts = [len(sentence.split()) for sentence in column_llama]\n",
        "\n",
        "average = sum(word_counts) / len(column_llama)\n",
        "median = statistics.median(word_counts)\n",
        "\n",
        "print(\"Llama\")\n",
        "print(\"Average:\", average)\n",
        "print(\"Median:\", median)"
      ]
    },
    {
      "cell_type": "code",
      "execution_count": 7,
      "metadata": {
        "colab": {
          "base_uri": "https://localhost:8080/"
        },
        "id": "Ydn3rNDO-Im-",
        "outputId": "7bc44c95-e331-42b8-a3ae-06df633f693c"
      },
      "outputs": [
        {
          "name": "stdout",
          "output_type": "stream",
          "text": [
            "Qwen\n",
            "Average: 26.216216216216218\n",
            "Median: 4\n"
          ]
        }
      ],
      "source": [
        "word_counts = [len(sentence.split()) for sentence in column_qwen]\n",
        "\n",
        "average = sum(word_counts) / len(column_qwen)\n",
        "median = statistics.median(word_counts)\n",
        "\n",
        "print(\"Qwen\")\n",
        "print(\"Average:\", average)\n",
        "print(\"Median:\", median)"
      ]
    },
    {
      "cell_type": "code",
      "execution_count": 8,
      "metadata": {
        "colab": {
          "base_uri": "https://localhost:8080/"
        },
        "id": "kDcs2UUa-Im-",
        "outputId": "b9afc050-8bab-4ce4-abfa-e09f51711d22"
      },
      "outputs": [
        {
          "name": "stdout",
          "output_type": "stream",
          "text": [
            "Qwen-Coder\n",
            "Average: 9.172972972972973\n",
            "Median: 2\n"
          ]
        }
      ],
      "source": [
        "word_counts = [len(sentence.split()) for sentence in column_qwen_coder]\n",
        "\n",
        "average = sum(word_counts) / len(column_qwen_coder)\n",
        "median = statistics.median(word_counts)\n",
        "\n",
        "print(\"Qwen-Coder\")\n",
        "print(\"Average:\", average)\n",
        "print(\"Median:\", median)"
      ]
    },
    {
      "cell_type": "code",
      "execution_count": 9,
      "metadata": {
        "colab": {
          "base_uri": "https://localhost:8080/"
        },
        "id": "wA42nlvV-Im-",
        "outputId": "8b30da64-16e6-4ac5-e17b-916a111874a7"
      },
      "outputs": [
        {
          "name": "stdout",
          "output_type": "stream",
          "text": [
            "Average BLEU-1 score: 0.3761302290713021\n"
          ]
        },
        {
          "name": "stderr",
          "output_type": "stream",
          "text": [
            "/usr/local/lib/python3.11/dist-packages/nltk/translate/bleu_score.py:577: UserWarning: \n",
            "The hypothesis contains 0 counts of 4-gram overlaps.\n",
            "Therefore the BLEU score evaluates to 0, independently of\n",
            "how many N-gram overlaps of lower order it contains.\n",
            "Consider using lower n-gram order or use SmoothingFunction()\n",
            "  warnings.warn(_msg)\n",
            "/usr/local/lib/python3.11/dist-packages/nltk/translate/bleu_score.py:577: UserWarning: \n",
            "The hypothesis contains 0 counts of 2-gram overlaps.\n",
            "Therefore the BLEU score evaluates to 0, independently of\n",
            "how many N-gram overlaps of lower order it contains.\n",
            "Consider using lower n-gram order or use SmoothingFunction()\n",
            "  warnings.warn(_msg)\n",
            "/usr/local/lib/python3.11/dist-packages/nltk/translate/bleu_score.py:577: UserWarning: \n",
            "The hypothesis contains 0 counts of 3-gram overlaps.\n",
            "Therefore the BLEU score evaluates to 0, independently of\n",
            "how many N-gram overlaps of lower order it contains.\n",
            "Consider using lower n-gram order or use SmoothingFunction()\n",
            "  warnings.warn(_msg)\n"
          ]
        }
      ],
      "source": [
        "# Llama-1\n",
        "llama_scores = []\n",
        "scores = []\n",
        "for i in range(len(column_manual)):\n",
        "    score = sentence_bleu([column_manual[i]], column_llama[i], weights=(1.0, 0, 0, 0))\n",
        "    scores.append(score)\n",
        "\n",
        "avg_score = sum(scores) / len(scores)\n",
        "llama_scores.append(avg_score)\n",
        "print(f\"Average BLEU-1 score: {avg_score}\")"
      ]
    },
    {
      "cell_type": "code",
      "execution_count": 10,
      "metadata": {
        "colab": {
          "base_uri": "https://localhost:8080/"
        },
        "id": "xrv0QqOX-Im_",
        "outputId": "42d2af13-87db-4e15-aa93-154687b95c05"
      },
      "outputs": [
        {
          "name": "stdout",
          "output_type": "stream",
          "text": [
            "Average BLEU-2 score: 0.3542156929620382\n"
          ]
        }
      ],
      "source": [
        "# Llama-2\n",
        "scores = []\n",
        "for i in range(len(column_manual)):\n",
        "    score = sentence_bleu([column_manual[i]], column_llama[i], weights=(0.5, 0.5))\n",
        "    scores.append(score)\n",
        "\n",
        "llama_bleu_2_scores = scores\n",
        "\n",
        "# Calculate the average BLEU score for the columns\n",
        "avg_score = sum(scores) / len(scores)\n",
        "llama_scores.append(avg_score)\n",
        "print(f\"Average BLEU-2 score: {avg_score}\")"
      ]
    },
    {
      "cell_type": "code",
      "execution_count": 11,
      "metadata": {
        "colab": {
          "base_uri": "https://localhost:8080/"
        },
        "id": "3fp2gshK-Im_",
        "outputId": "a9433869-b98c-48f6-def7-508f1bf4d209"
      },
      "outputs": [
        {
          "name": "stdout",
          "output_type": "stream",
          "text": [
            "Average BLEU-3 score: 0.33926807259834274\n"
          ]
        }
      ],
      "source": [
        "# Llama-3\n",
        "scores = []\n",
        "for i in range(len(column_manual)):\n",
        "    score = sentence_bleu([column_manual[i]], column_llama[i], weights=(0.33, 0.33, 0.33))\n",
        "    scores.append(score)\n",
        "\n",
        "# Calculate the average BLEU score for the columns\n",
        "avg_score = sum(scores) / len(scores)\n",
        "llama_scores.append(avg_score)\n",
        "print(f\"Average BLEU-3 score: {avg_score}\")"
      ]
    },
    {
      "cell_type": "code",
      "execution_count": 12,
      "metadata": {
        "colab": {
          "base_uri": "https://localhost:8080/"
        },
        "id": "pZhWeLfR-Im_",
        "outputId": "c483f76b-8423-48ae-a96f-490e9e1f3013"
      },
      "outputs": [
        {
          "name": "stdout",
          "output_type": "stream",
          "text": [
            "Average BLEU-4 score: 0.3226516964486028\n"
          ]
        }
      ],
      "source": [
        "# Llama-4\n",
        "scores = []\n",
        "for i in range(len(column_manual)):\n",
        "    score = sentence_bleu([column_manual[i]], column_llama[i], weights=(0.25, 0.25, 0.25, 0.25))\n",
        "    scores.append(score)\n",
        "\n",
        "llama_bleu_4_scores = scores\n",
        "\n",
        "# Calculate the average BLEU score for the columns\n",
        "avg_score = sum(scores) / len(scores)\n",
        "llama_scores.append(avg_score)\n",
        "print(f\"Average BLEU-4 score: {avg_score}\")"
      ]
    },
    {
      "cell_type": "code",
      "execution_count": 13,
      "metadata": {
        "colab": {
          "base_uri": "https://localhost:8080/"
        },
        "id": "8FhFdCSW-InA",
        "outputId": "ea060ba2-9896-44af-c89d-272ba05ad072"
      },
      "outputs": [
        {
          "name": "stdout",
          "output_type": "stream",
          "text": [
            "Average BLEU-1 score: 0.26502190859506336\n"
          ]
        }
      ],
      "source": [
        "# Qwen-1\n",
        "scores = []\n",
        "qwen_scores = []\n",
        "for i in range(len(column_manual)):\n",
        "    score = sentence_bleu([column_manual[i]], column_qwen[i], weights=(1.0, 0, 0, 0))\n",
        "    scores.append(score)\n",
        "\n",
        "# Calculate the average BLEU score for the columns\n",
        "avg_score = sum(scores) / len(scores)\n",
        "qwen_scores.append(avg_score)\n",
        "print(f\"Average BLEU-1 score: {avg_score}\")"
      ]
    },
    {
      "cell_type": "code",
      "execution_count": 14,
      "metadata": {
        "colab": {
          "base_uri": "https://localhost:8080/"
        },
        "id": "QioktiSz-InA",
        "outputId": "e5629de0-bd62-4b10-c7d8-3423b32d0fe6"
      },
      "outputs": [
        {
          "name": "stdout",
          "output_type": "stream",
          "text": [
            "Average BLEU-2 score: 0.2518334127869017\n"
          ]
        }
      ],
      "source": [
        "# Qwen-2\n",
        "scores = []\n",
        "for i in range(len(column_manual)):\n",
        "    score = sentence_bleu([column_manual[i]], column_qwen[i], weights=(0.5, 0.5))\n",
        "    scores.append(score)\n",
        "\n",
        "qwen_bleu_2_scores = scores\n",
        "\n",
        "# Calculate the average BLEU score for the columns\n",
        "avg_score = sum(scores) / len(scores)\n",
        "qwen_scores.append(avg_score)\n",
        "print(f\"Average BLEU-2 score: {avg_score}\")"
      ]
    },
    {
      "cell_type": "code",
      "execution_count": 15,
      "metadata": {
        "colab": {
          "base_uri": "https://localhost:8080/"
        },
        "id": "f1S-rzSV-InA",
        "outputId": "3be21a4b-ea61-44ea-ec15-251140b2c225"
      },
      "outputs": [
        {
          "name": "stdout",
          "output_type": "stream",
          "text": [
            "Average BLEU-3 score: 0.24017202412291924\n"
          ]
        }
      ],
      "source": [
        "# Qwen-3\n",
        "scores = []\n",
        "for i in range(len(column_manual)):\n",
        "    score = sentence_bleu([column_manual[i]], column_qwen[i], weights=(0.33, 0.33, 0.33))\n",
        "    scores.append(score)\n",
        "\n",
        "# Calculate the average BLEU score for the columns\n",
        "avg_score = sum(scores) / len(scores)\n",
        "qwen_scores.append(avg_score)\n",
        "print(f\"Average BLEU-3 score: {avg_score}\")"
      ]
    },
    {
      "cell_type": "code",
      "execution_count": 16,
      "metadata": {
        "colab": {
          "base_uri": "https://localhost:8080/"
        },
        "id": "GMX7cdEp-InA",
        "outputId": "419df0d1-7e21-40e1-9649-2ef33b6d0108"
      },
      "outputs": [
        {
          "name": "stdout",
          "output_type": "stream",
          "text": [
            "Average BLEU-4 score: 0.22734022792602443\n"
          ]
        }
      ],
      "source": [
        "# Qwen-4\n",
        "scores = []\n",
        "for i in range(len(column_manual)):\n",
        "    score = sentence_bleu([column_manual[i]], column_qwen[i], weights=(0.25, 0.25, 0.25, 0.25))\n",
        "    scores.append(score)\n",
        "\n",
        "qwen_bleu_4_scores = scores\n",
        "\n",
        "# Calculate the average BLEU score for the columns\n",
        "avg_score = sum(scores) / len(scores)\n",
        "qwen_scores.append(avg_score)\n",
        "print(f\"Average BLEU-4 score: {avg_score}\")"
      ]
    },
    {
      "cell_type": "code",
      "execution_count": 17,
      "metadata": {
        "colab": {
          "base_uri": "https://localhost:8080/"
        },
        "id": "fiGQsWg5-InB",
        "outputId": "02e34d93-86d6-40d3-bf58-a424fbd52d30"
      },
      "outputs": [
        {
          "name": "stdout",
          "output_type": "stream",
          "text": [
            "Average BLEU-1 score: 0.3162565759690838\n"
          ]
        }
      ],
      "source": [
        "# Qwen-Coder-1\n",
        "qwen_coder_scores = []\n",
        "scores = []\n",
        "for i in range(len(column_manual)):\n",
        "    score = sentence_bleu([column_manual[i]], column_qwen_coder[i], weights=(1.0, 0, 0, 0))\n",
        "    scores.append(score)\n",
        "\n",
        "# Calculate the average BLEU score for the columns\n",
        "avg_score = sum(scores) / len(scores)\n",
        "qwen_coder_scores.append(avg_score)\n",
        "print(f\"Average BLEU-1 score: {avg_score}\")"
      ]
    },
    {
      "cell_type": "code",
      "execution_count": 18,
      "metadata": {
        "colab": {
          "base_uri": "https://localhost:8080/"
        },
        "id": "q2-e-Rdw-InB",
        "outputId": "51ff144f-7482-4a50-9e8d-86a38af47796"
      },
      "outputs": [
        {
          "name": "stdout",
          "output_type": "stream",
          "text": [
            "Average BLEU-2 score: 0.30394844185169995\n"
          ]
        }
      ],
      "source": [
        "# Qwen-Coder-2\n",
        "scores = []\n",
        "for i in range(len(column_manual)):\n",
        "    score = sentence_bleu([column_manual[i]], column_qwen_coder[i], weights=(0.5, 0.5))\n",
        "    scores.append(score)\n",
        "\n",
        "qwen_coder_bleu_2_scores = scores\n",
        "\n",
        "# Calculate the average BLEU score for the columns\n",
        "avg_score = sum(scores) / len(scores)\n",
        "qwen_coder_scores.append(avg_score)\n",
        "print(f\"Average BLEU-2 score: {avg_score}\")"
      ]
    },
    {
      "cell_type": "code",
      "execution_count": 19,
      "metadata": {
        "colab": {
          "base_uri": "https://localhost:8080/"
        },
        "id": "NXGSJMjE-InB",
        "outputId": "1388ea6c-c1b8-4914-cc90-ac158ddb5c57"
      },
      "outputs": [
        {
          "name": "stdout",
          "output_type": "stream",
          "text": [
            "Average BLEU-3 score: 0.2946234620390299\n"
          ]
        }
      ],
      "source": [
        "# Qwen-Coder-3\n",
        "scores = []\n",
        "for i in range(len(column_manual)):\n",
        "    score = sentence_bleu([column_manual[i]], column_qwen_coder[i], weights=(0.33, 0.33, 0.33))\n",
        "    scores.append(score)\n",
        "\n",
        "# Calculate the average BLEU score for the columns\n",
        "avg_score = sum(scores) / len(scores)\n",
        "qwen_coder_scores.append(avg_score)\n",
        "print(f\"Average BLEU-3 score: {avg_score}\")"
      ]
    },
    {
      "cell_type": "code",
      "execution_count": 20,
      "metadata": {
        "colab": {
          "base_uri": "https://localhost:8080/"
        },
        "id": "oA-xGegC-InB",
        "outputId": "8aab1861-03e8-4b9c-ce3f-0b64883b7e54"
      },
      "outputs": [
        {
          "name": "stdout",
          "output_type": "stream",
          "text": [
            "Average BLEU-4 score: 0.2851266338480871\n"
          ]
        }
      ],
      "source": [
        "# Qwen-Coder-4\n",
        "scores = []\n",
        "for i in range(len(column_manual)):\n",
        "    score = sentence_bleu([column_manual[i]], column_qwen_coder[i], weights=(0.25, 0.25, 0.25, 0.25))\n",
        "    scores.append(score)\n",
        "\n",
        "qwen_coder_bleu_4_scores = scores\n",
        "\n",
        "# Calculate the average BLEU score for the columns\n",
        "avg_score = sum(scores) / len(scores)\n",
        "qwen_coder_scores.append(avg_score)\n",
        "print(f\"Average BLEU-4 score: {avg_score}\")"
      ]
    },
    {
      "cell_type": "code",
      "execution_count": 21,
      "metadata": {
        "colab": {
          "base_uri": "https://localhost:8080/"
        },
        "id": "noH6jFTj-InB",
        "outputId": "1391d796-ba1e-4a13-e6e1-0d970f87739c"
      },
      "outputs": [
        {
          "name": "stdout",
          "output_type": "stream",
          "text": [
            "[0.3761302290713021, 0.3542156929620382, 0.33926807259834274, 0.3226516964486028]\n",
            "[0.26502190859506336, 0.2518334127869017, 0.24017202412291924, 0.22734022792602443]\n",
            "[0.3162565759690838, 0.30394844185169995, 0.2946234620390299, 0.2851266338480871]\n"
          ]
        }
      ],
      "source": [
        "print(llama_scores)\n",
        "print(qwen_scores)\n",
        "print(qwen_coder_scores)"
      ]
    },
    {
      "cell_type": "code",
      "execution_count": 22,
      "metadata": {
        "colab": {
          "base_uri": "https://localhost:8080/"
        },
        "id": "_2STqhQw-InB",
        "outputId": "678eba10-b8dd-4a6b-a51b-c5b78566fa43"
      },
      "outputs": [
        {
          "name": "stdout",
          "output_type": "stream",
          "text": [
            "## Low BLEU-2 Scores (<0.3)\n",
            "93\n",
            "Average  manual : 7.354838709677419\n",
            "Median  manual : 3\n",
            "Average  llama : 24.731182795698924\n",
            "Median  llama : 2\n",
            "Average  qwen : 25.473118279569892\n",
            "Median  qwen : 0\n",
            "Average  qwen_coder : 11.129032258064516\n",
            "Median  qwen_coder : 0\n",
            "-----------------------------------------------------\n",
            "## High BLEU-2 Scores (>0.5)\n",
            "26\n",
            "Average  manual : 9.538461538461538\n",
            "Median  manual : 7.0\n",
            "Average  llama : 10.461538461538462\n",
            "Median  llama : 8.5\n",
            "Average  qwen : 10.153846153846153\n",
            "Median  qwen : 7.0\n",
            "Average  qwen_coder : 9.846153846153847\n",
            "Median  qwen_coder : 8.0\n",
            "\n",
            "#######################################################\n",
            "\n",
            "## Low BLEU-4 Scores (<0.3)\n",
            "99\n",
            "Average  manual : 9.777777777777779\n",
            "Median  manual : 4\n",
            "Average  llama : 26.454545454545453\n",
            "Median  llama : 2\n",
            "Average  qwen : 25.585858585858585\n",
            "Median  qwen : 0\n",
            "Average  qwen_coder : 10.707070707070708\n",
            "Median  qwen_coder : 0\n",
            "-----------------------------------------------------\n",
            "## High BLEU-4 Scores (>0.5)\n",
            "24\n",
            "Average  manual : 9.875\n",
            "Median  manual : 7.0\n",
            "Average  llama : 10.708333333333334\n",
            "Median  llama : 8.5\n",
            "Average  qwen : 10.416666666666666\n",
            "Median  qwen : 7.0\n",
            "Average  qwen_coder : 10.083333333333334\n",
            "Median  qwen_coder : 8.0\n"
          ]
        }
      ],
      "source": [
        "def calculate_bleu_stats(bleu, llama_bleu_scores, qwen_bleu_scores, qwen_coder_bleu_scores, column_manual, column_llama, column_qwen, column_qwen_coder):\n",
        "    def calculate_filtered_stats(condition):\n",
        "        filtered_word_counts = {\"manual\": [], \"llama\": [], \"qwen\": [], \"qwen_coder\": []}\n",
        "\n",
        "        for i in range(len(llama_bleu_scores)):\n",
        "            if condition(llama_bleu_scores[i], qwen_bleu_scores[i], qwen_coder_bleu_scores[i]):\n",
        "                filtered_word_counts[\"manual\"].append(len(column_manual[i].split()))\n",
        "                filtered_word_counts[\"llama\"].append(len(column_llama[i].split()))\n",
        "                filtered_word_counts[\"qwen\"].append(len(column_qwen[i].split()))\n",
        "                filtered_word_counts[\"qwen_coder\"].append(len(column_qwen_coder[i].split()))\n",
        "\n",
        "        count = len(filtered_word_counts[\"manual\"])\n",
        "        if count == 0:\n",
        "            print(\"No matching entries found.\")\n",
        "            return\n",
        "\n",
        "        print(count)\n",
        "        for key in filtered_word_counts:\n",
        "            print(\"Average \", key, \":\", sum(filtered_word_counts[key]) / count)\n",
        "            print(\"Median \", key, \":\", statistics.median(filtered_word_counts[key]))\n",
        "\n",
        "    print(f\"## Low BLEU-{bleu} Scores (<0.3)\")\n",
        "    calculate_filtered_stats(lambda l, q, qc: l < 0.3 and q < 0.3 and qc < 0.3)\n",
        "\n",
        "    print(\"-----------------------------------------------------\")\n",
        "\n",
        "    print(f\"## High BLEU-{bleu} Scores (>0.5)\")\n",
        "    calculate_filtered_stats(lambda l, q, qc: l > 0.5 and q > 0.5 and qc > 0.5)\n",
        "\n",
        "\n",
        "calculate_bleu_stats(2, llama_bleu_2_scores, qwen_bleu_2_scores, qwen_coder_bleu_2_scores, column_manual, column_llama, column_qwen, column_qwen_coder)\n",
        "\n",
        "print(\"\\n#######################################################\\n\")\n",
        "\n",
        "calculate_bleu_stats(4, llama_bleu_4_scores, qwen_bleu_4_scores, qwen_coder_bleu_4_scores, column_manual, column_llama, column_qwen, column_qwen_coder)"
      ]
    }
  ],
  "metadata": {
    "colab": {
      "provenance": []
    },
    "kernelspec": {
      "display_name": ".venv",
      "language": "python",
      "name": "python3"
    },
    "language_info": {
      "codemirror_mode": {
        "name": "ipython",
        "version": 3
      },
      "file_extension": ".py",
      "mimetype": "text/x-python",
      "name": "python",
      "nbconvert_exporter": "python",
      "pygments_lexer": "ipython3",
      "version": "3.10.6"
    }
  },
  "nbformat": 4,
  "nbformat_minor": 0
}
